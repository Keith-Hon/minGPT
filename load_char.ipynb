{
 "cells": [
  {
   "cell_type": "code",
   "execution_count": 3,
   "metadata": {},
   "outputs": [
    {
     "name": "stdout",
     "output_type": "stream",
     "text": [
      "data has 1170335 characters, 3567 unique.\n"
     ]
    },
    {
     "data": {
      "text/plain": [
       "<All keys matched successfully>"
      ]
     },
     "execution_count": 3,
     "metadata": {},
     "output_type": "execute_result"
    }
   ],
   "source": [
    "from mingpt.model import GPT, GPTConfig\n",
    "import torch\n",
    "\n",
    "model_path = \"29_12_2021_02_55_28.model\"\n",
    "\n",
    "block_size = 128\n",
    "\n",
    "from mingpt.char_dataset import CharDataset\n",
    "text = open('input.txt', 'r', encoding=\"utf8\").read()\n",
    "train_dataset = CharDataset(text, block_size)\n",
    "\n",
    "mconf = GPTConfig(train_dataset.vocab_size, block_size, n_layer=8, n_head=8, n_embd=512)\n",
    "model = GPT(mconf)\n",
    "model.load_state_dict(torch.load(model_path))"
   ]
  },
  {
   "cell_type": "code",
   "execution_count": 7,
   "metadata": {},
   "outputs": [],
   "source": [
    "batch_size = 128\n",
    "num_workers = 0"
   ]
  },
  {
   "cell_type": "code",
   "execution_count": 8,
   "metadata": {},
   "outputs": [
    {
     "name": "stdout",
     "output_type": "stream",
     "text": [
      "Using GPU 0\n"
     ]
    }
   ],
   "source": [
    "from mingpt.trainer import Trainer, TrainerConfig\n",
    "\n",
    "# initialize a trainer instance and kick off training\n",
    "tconf = TrainerConfig(max_epochs=2, batch_size=batch_size, learning_rate=6e-4,\n",
    "                      lr_decay=True, warmup_tokens=512*20, final_tokens=2*len(train_dataset)*block_size,\n",
    "                      num_workers=num_workers)\n",
    "trainer = Trainer(model, train_dataset, None, tconf)"
   ]
  },
  {
   "cell_type": "code",
   "execution_count": 10,
   "metadata": {},
   "outputs": [
    {
     "name": "stdout",
     "output_type": "stream",
     "text": [
      "冰滴咖啡用左京都流行嘅感覺 最後教我地先飲一啖咖啡，覺得苦澀，可以含一糖一齊飲，跟住飲啖水，清一清口腔嘅異味，再去飲下一啖咖啡，咁先可以真真正正咁品嘗到咖啡嘅香味。老老實實，我真飲唔出咖啡同出面嘅有好大分別，少少苦味，但有好味嘅糖可以一齊送咖啡，我覺得都可以接受，咖啡香味的確好濃，我個飲慣咖啡嘅朋友，都話好香好正。最得意嘅係，飲完咖啡，店主話可以將個咖啡杯倒轉，然後佢可以研究杯入面咖啡漬嘅pattern黎算命，200蚊\n"
     ]
    }
   ],
   "source": [
    "# alright, let's sample some character-level Shakespeare\n",
    "from mingpt.utils import sample\n",
    "\n",
    "context = \"The quick brown fox jumps over the lazy dog\"\n",
    "x = torch.tensor([train_dataset.stoi[s] for s in context], dtype=torch.long)[None,...].to(trainer.device)\n",
    "y = sample(model, x, 200, temperature=1.0, sample=True, top_k=1)[0]\n",
    "completion = ''.join([train_dataset.itos[int(i)] for i in y])\n",
    "\n",
    "print(completion)"
   ]
  }
 ],
 "metadata": {
  "interpreter": {
   "hash": "93fa56188790669cf5f9151d5859d2fb932e025e5537ffb97c3f09b87cf6b714"
  },
  "kernelspec": {
   "display_name": "Python 3.9.7 64-bit",
   "language": "python",
   "name": "python3"
  },
  "language_info": {
   "codemirror_mode": {
    "name": "ipython",
    "version": 3
   },
   "file_extension": ".py",
   "mimetype": "text/x-python",
   "name": "python",
   "nbconvert_exporter": "python",
   "pygments_lexer": "ipython3",
   "version": "3.9.7"
  },
  "orig_nbformat": 4
 },
 "nbformat": 4,
 "nbformat_minor": 2
}
